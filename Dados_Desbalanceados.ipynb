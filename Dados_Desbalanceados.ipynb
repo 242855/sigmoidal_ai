{
  "nbformat": 4,
  "nbformat_minor": 0,
  "metadata": {
    "colab": {
      "name": "Dados Desbalanceados.ipynb",
      "provenance": [],
      "include_colab_link": true
    },
    "kernelspec": {
      "name": "python3",
      "display_name": "Python 3"
    }
  },
  "cells": [
    {
      "cell_type": "markdown",
      "metadata": {
        "id": "view-in-github",
        "colab_type": "text"
      },
      "source": [
        "<a href=\"https://colab.research.google.com/github/carlosfab/sigmoidal_ai/blob/master/Dados_Desbalanceados.ipynb\" target=\"_parent\"><img src=\"https://colab.research.google.com/assets/colab-badge.svg\" alt=\"Open In Colab\"/></a>"
      ]
    },
    {
      "cell_type": "code",
      "metadata": {
        "id": "H4kh4P2xp5T6",
        "colab_type": "code",
        "colab": {},
        "cellView": "both"
      },
      "source": [
        "#@title\n",
        "# suprimir os warnings\n",
        "from warnings import simplefilter\n",
        "simplefilter(action='ignore', category=FutureWarning)\n",
        "\n",
        "!pip install -q scikit-plot"
      ],
      "execution_count": 0,
      "outputs": []
    },
    {
      "cell_type": "markdown",
      "metadata": {
        "id": "agxToYot_F4p",
        "colab_type": "text"
      },
      "source": [
        "# Como lidar com dados desbalanceados\n",
        "\n",
        "Saber como lidar com dados desbalanceados pode fazer toda a diferença no no seu projeto de *Data Science* e no desempenho do seu modelo de *Machine Learning*.\n",
        "\n",
        "Você provavelmente já se deparou com a situação de encontrar um *dataset* onde havia um nítido desequilíbrio entre as amostras de suas diferentes classes.\n",
        "\n",
        "Alguns exemplos de situações onde o desbalancemaneto é quase certo são problemas de detecção de fraude e diagnóstico médicos - é intuitivo pensar que existem mais transações lícitas que criminosas, ou que o conjunto de pessoas diagnosticadas com câncer é bem menor que o conjunto de pessoas sem a doença.\n",
        "\n",
        "Ignorar esse fato e treinar um algoritmo em cima do conjunto de dados original, pulando uma etapa intermediária de balanceamento dos dados, pode ter impactos diretos no seu projeto de *Data Science*.\n",
        "\n",
        "## Consequências dos dados desbalanceados\n",
        "\n",
        "Se você está construindo um modelo de *machine learning* para classificação, por exemplo, a consequência desse desequilíbrio é que o modelo terá uma tendência a dar muitos \"alarmes falsos\".\n",
        "\n",
        "Ou seja, na prática ele irá responder muito bem entradas para as classes majoritárias, mas terá um desempenho inferior para as minoriárias.\n",
        "\n",
        "No exemplo de detecção de fraude com cartões de crédito (onde o número de transações financeiras normais é bem maior que o número de transações fraudulentas), um classificador tenderá a apresentar muitos falsos negativos - uma situação indesejável para um banco, obviamente.\n",
        "\n",
        "Em um *trade-off*, seria preferível \"errar para mais\" e ter uma quantidade maior de falsos negativos. Aliás, aposto que você já teve seu cartão bloqueado preventivamente e teve que ligar no banco para confirmar as últimas compras que havia feito, não é mesmo?!\n",
        "\n",
        "Teoricamente, um *dataset* que possua qualquer classe com mais de 50% das entradas já é considerado desbalanceado. No entanto, há situações extremas onde você vai encontrar proporções maiores que 99:1.\n",
        "\n",
        "Existem várias abordagens para lidar com dados desbalanceados, cada uma com seus prós e contras. Neste artigo, irei mostrar alguns dos métodos mais populares para você incluir desde já no seu arsenal."
      ]
    },
    {
      "cell_type": "markdown",
      "metadata": {
        "id": "u3aLdMqhJ9U0",
        "colab_type": "text"
      },
      "source": [
        "## Métodos para lidar com *datasets* desbalanceados\n",
        "\n",
        "Há diversas maneiras para atacar o problema de dados desbalanceados, que envolvem desde a construção de algoritmos específicos até  a aplicação de algoritmos mais avançados como *Recognition-based Learning* e *Cost-sensitive Learning*. \n",
        "\n",
        "No entanto, uma outra abordagem bem mais simples tem sido amplamente usada (com ótimos resultados), a abordagem *sampling*.\n",
        "\n",
        "*Sampling* é um pré-processamento que visa minimizar as discrepâncias entre as classes por meio de uma reamostragem do *dataset* original. Para gerar um conjunto balanceado, são usadas normalmente as seguintes técnicas:\n",
        "\n",
        "* ***Over-sampling:*** cria novas observações da classe minoritária a partir das informações contidas nos dados originais. Essa geração de novas entradas pode ser feita aleatoriamente com o auxílio de técnicas de *clustering* ou sinteticamente.\n",
        "\n",
        "* ***Under-sampling:*** reduz o desbalanceamento do *dataset* focando na classe majoritária. Ou seja, elimina aleatoriamente entradas da classe com maior número de ocorrências.\n",
        "\n",
        "Além dessas duas técnicas de *sampling*, [existem também os *advanced sampling methods*](https://towardsdatascience.com/a-deep-dive-into-imbalanced-data-over-sampling-f1167ed74b5), como SMOTE e ADASYN, onde instâncias são adicionadas ou removidas adaptativamente. \n",
        "\n",
        "Caso tenha curiosidade em conhecer mais e se aprofundar no assunto, [recomendo o este artigo científico](https://ro.uow.edu.au/cgi/viewcontent.cgi?referer=https://www.google.com/&httpsredir=1&article=1806&context=infopapers)."
      ]
    },
    {
      "cell_type": "markdown",
      "metadata": {
        "id": "Rs05sfWnRdbI",
        "colab_type": "text"
      },
      "source": [
        "## Vantagens e desvantagens de cada técnica\n",
        "\n",
        "[O Teorema *No Free Lunch*](https://www.kdnuggets.com/2019/09/no-free-lunch-data-science.html) diz que não existem um perfeito e único, apenas com vantagens. Cada escolha uma renúncia, isso é *Data Science*. Quando você opta por uma abordagem, tem que estar ciente das limitações e implicações nos seus resultados -  e transmitir isso para os *stakeholders*.\n",
        "\n",
        "*Over-sampling* replica os dados já existentes, aumentando o número de instâncias das classes minoritárias. A vantagem é que nenhuma informação é descartada, porém o custo computacional será elevado e você irá deteriorar a performance do algoritmo para as classes minoritárias.\n",
        "\n",
        "Já o *Under-sampling* vai extrair um subconjunto aleatório da classe majoritária, preservando as características da classe minoritária, sendo ideal para situações onde você tem grandes volumes de dados. Apesar de reduzir o tempo computacional e de armazenamento, esta técnica descarta informações da classe majoritária, o que pode levar a uma performance inferior nas predições dela.\n"
      ]
    },
    {
      "cell_type": "markdown",
      "metadata": {
        "id": "G6witNH3YnQL",
        "colab_type": "text"
      },
      "source": [
        "## Balanceando dados na prática\n",
        "\n",
        "Para mostrar como balancear um *dataset* na prática, vou usar dados públicos de transações financeiras disponibilizados por empresas de cartões de crédito [neste link](https://www.kaggle.com/mlg-ulb/creditcardfraud).\n",
        "\n",
        "Como é característico desse tipo de problema, as instâncias possuem distribuições bem discrepantes entre as classes `normal` (0) e `fraude` (1)."
      ]
    },
    {
      "cell_type": "code",
      "metadata": {
        "id": "zSzEi-Uf36uH",
        "colab_type": "code",
        "colab": {
          "base_uri": "https://localhost:8080/",
          "height": 73
        },
        "outputId": "ded98365-da13-429c-9aed-cad47b0c0802"
      },
      "source": [
        "# importar os pacotes necessários\n",
        "import pandas as pd\n",
        "import matplotlib.pyplot as plt\n",
        "import seaborn as sns\n",
        "\n",
        "from sklearn.linear_model import LogisticRegression\n",
        "from sklearn.metrics import classification_report\n",
        "from sklearn.model_selection import train_test_split\n",
        "from sklearn.metrics import roc_auc_score, roc_curve, accuracy_score\n",
        "from imblearn.under_sampling import RandomUnderSampler\n",
        "\n",
        "# configurar o estilo dos gráficos com o Seaborn\n",
        "sns.set_style('dark')"
      ],
      "execution_count": 2,
      "outputs": [
        {
          "output_type": "stream",
          "text": [
            "/usr/local/lib/python3.6/dist-packages/sklearn/externals/six.py:31: DeprecationWarning: The module is deprecated in version 0.21 and will be removed in version 0.23 since we've dropped support for Python 2.7. Please rely on the official version of six (https://pypi.org/project/six/).\n",
            "  \"(https://pypi.org/project/six/).\", DeprecationWarning)\n"
          ],
          "name": "stderr"
        }
      ]
    },
    {
      "cell_type": "markdown",
      "metadata": {
        "id": "wlurrDo9r8c7",
        "colab_type": "text"
      },
      "source": [
        "Acima, importei todas as bibliotecas que serão usadas neste artigo. Na sequência, importei o arquivo `csv` para dentro de um estrutura *dataframe* do `pandas` e imprimir a contagem de valores únicos para os *labels*.\n",
        "\n",
        "Representando 0,17% do total de instâncias, é nítida a discrepância e desbalanceamento dos dados. Mal conseguimos ver a barra da nossa variável alvo para instâncias de fraude (`df.Class == 1`)."
      ]
    },
    {
      "cell_type": "code",
      "metadata": {
        "id": "Pczi3ydsJJ8C",
        "colab_type": "code",
        "colab": {
          "base_uri": "https://localhost:8080/",
          "height": 387
        },
        "outputId": "536281ab-94ff-4c47-f6c5-420d936c8c25"
      },
      "source": [
        "file_path = \"https://www.dropbox.com/s/b44o3t3ehmnx2b7/creditcard.csv?dl=1\"\n",
        "\n",
        "# importar os dados para um dataframe\n",
        "df = pd.read_csv(file_path)\n",
        "\n",
        "# ver o balanceamento das classes\n",
        "print(df.Class.value_counts())\n",
        "print(\"\\nFraudes representam {:.4f}% do dataset.\\n\".format((df[df.Class == 1].shape[0] / df.shape[0]) * 100))\n",
        "\n",
        "# plotar gráfico de barras para as Classes\n",
        "sns.countplot('Class', data=df);"
      ],
      "execution_count": 3,
      "outputs": [
        {
          "output_type": "stream",
          "text": [
            "0    284315\n",
            "1       492\n",
            "Name: Class, dtype: int64\n",
            "\n",
            "Fraudes representam 0.1727% do dataset.\n",
            "\n"
          ],
          "name": "stdout"
        },
        {
          "output_type": "display_data",
          "data": {
            "image/png": "[encoded data removed]",
            "text/plain": [
              "<Figure size 432x288 with 1 Axes>"
            ]
          },
          "metadata": {
            "tags": []
          }
        }
      ]
    },
    {
      "cell_type": "markdown",
      "metadata": {
        "id": "47wqy5h2ZyPG",
        "colab_type": "text"
      },
      "source": [
        "Para você ter um ideia real das consequências dessa situação, vou construir dois modelos de Regressão Logística.\n",
        "\n",
        "No nosso primeiro modelo, separei as variáveis `X` e `y` normalmente e dividi entre conjuntos de treino e teste, como é praxe em *machine learning*. Sem maiores ajustes, treinei o modelo usando o método `fit(X_train, y_train)` e fiz a previsão de valores em cima do conjunto de teste (`X_test`).\n",
        "\n",
        "Na sequência, plotei a matriz de confusão e o relatório de classificação."
      ]
    },
    {
      "cell_type": "code",
      "metadata": {
        "id": "2TkPdBDsKPr1",
        "colab_type": "code",
        "colab": {
          "base_uri": "https://localhost:8080/",
          "height": 244
        },
        "outputId": "4428cfb1-8056-4dc0-ae93-12c6da4db0a3"
      },
      "source": [
        "# separar variáveis entre X e y\n",
        "X = df.drop('Class', axis=1)\n",
        "y = df['Class']\n",
        "\n",
        "# dividir o dataset entre treino e teste\n",
        "X_train, X_test, y_train, y_test = train_test_split(X, y, stratify=y, shuffle=True)\n",
        "\n",
        "# instanciar e treinar um modelo de Regressão Logística\n",
        "model = LogisticRegression()\n",
        "model.fit(X_train, y_train)\n",
        "\n",
        "# fazer as previsões em cima dos dados de teste\n",
        "y_pred = model.predict(X_test)\n",
        "y_proba = model.predict_proba(X_test)\n",
        "\n",
        "# plotar a matrix de confusão\n",
        "skplt.metrics.plot_confusion_matrix(y_test, y_pred, normalize=True)\n",
        "\n",
        "# imprimir relatório de classificação\n",
        "print(\"Relatório de Classificação:\\n\", classification_report(y_test, y_pred, digits=4))\n",
        "\n",
        "# imprimir a acurácia do modelo\n",
        "print(\"Acurácia: {:.4f}\\n\".format(accuracy_score(y_test, y_pred)))\n",
        "\n",
        "# imprimir a área sob a curva\n",
        "print(\"AUC: {:.4f}\\n\".format(roc_auc_score(y_test, y_pred)))"
      ],
      "execution_count": 4,
      "outputs": [
        {
          "output_type": "error",
          "ename": "NameError",
          "evalue": "ignored",
          "traceback": [
            "\u001b[0;31m---------------------------------------------------------------------------\u001b[0m",
            "\u001b[0;31mNameError\u001b[0m                                 Traceback (most recent call last)",
            "\u001b[0;32m<ipython-input-4-4891bcca5910>\u001b[0m in \u001b[0;36m<module>\u001b[0;34m()\u001b[0m\n\u001b[1;32m     14\u001b[0m \u001b[0;34m\u001b[0m\u001b[0m\n\u001b[1;32m     15\u001b[0m \u001b[0;31m# plotar a matrix de confusão\u001b[0m\u001b[0;34m\u001b[0m\u001b[0;34m\u001b[0m\u001b[0;34m\u001b[0m\u001b[0m\n\u001b[0;32m---> 16\u001b[0;31m \u001b[0mskplt\u001b[0m\u001b[0;34m.\u001b[0m\u001b[0mmetrics\u001b[0m\u001b[0;34m.\u001b[0m\u001b[0mplot_confusion_matrix\u001b[0m\u001b[0;34m(\u001b[0m\u001b[0my_test\u001b[0m\u001b[0;34m,\u001b[0m \u001b[0my_pred\u001b[0m\u001b[0;34m,\u001b[0m \u001b[0mnormalize\u001b[0m\u001b[0;34m=\u001b[0m\u001b[0;32mTrue\u001b[0m\u001b[0;34m)\u001b[0m\u001b[0;34m\u001b[0m\u001b[0;34m\u001b[0m\u001b[0m\n\u001b[0m\u001b[1;32m     17\u001b[0m \u001b[0;34m\u001b[0m\u001b[0m\n\u001b[1;32m     18\u001b[0m \u001b[0;31m# imprimir relatório de classificação\u001b[0m\u001b[0;34m\u001b[0m\u001b[0;34m\u001b[0m\u001b[0;34m\u001b[0m\u001b[0m\n",
            "\u001b[0;31mNameError\u001b[0m: name 'skplt' is not defined"
          ]
        }
      ]
    },
    {
      "cell_type": "markdown",
      "metadata": {
        "id": "ASTJvAo_ARVc",
        "colab_type": "text"
      },
      "source": [
        "Conseguimos uma acurácia de 99,88% no nosso modelo de *machine learning*. **Você considera esse um bom resultado?**\n",
        "\n",
        "Bem,  acurácia global foi alta, mas o que dizer daquele fator que mais importava para nós, a **capacidade de detectar fraudes no cartão de crédito?**\n",
        "\n",
        "Aí é outra história... por causa do desbalanceamento de dados, o modelo foi capaz de classificar bem as instâncias onde `df.Class == 0` (transações normais), mas acertou menos de 60% dos casos em que `df.Class == 1`.\n",
        "\n",
        "Vamos ver agora qual seria o resultado caso tivessemos usado a técnica ***Under-sampling***. Para facilitar esse pré-processamento, vou usar a biblioteca `imblearn` com sua classe `imblearn.under_sampling.RandomUnderSampler` e chamar o método `fit_sample(X_train, y_train)`.\n",
        "\n",
        "Note como eu estou usando o *under-sampling* em cima do conjunto de treino, e não de todos os dados. Isso é muito importante para não desconfigurarmos a característica de teste original do *dataset*."
      ]
    },
    {
      "cell_type": "code",
      "metadata": {
        "id": "Kq1AQzLaMHz8",
        "colab_type": "code",
        "colab": {}
      },
      "source": [
        "# usar técnica under-sampling\n",
        "rus = RandomUnderSampler()\n",
        "X_res, y_res = rus.fit_sample(X_train, y_train)\n",
        "\n",
        "# ver o balanceamento das classes\n",
        "print(pd.Series(y_res).value_counts())\n",
        "\n",
        "# plotar a nova distribuição de classes\n",
        "sns.countplot(y_res);"
      ],
      "execution_count": 0,
      "outputs": []
    },
    {
      "cell_type": "markdown",
      "metadata": {
        "id": "8EnKulTPEDxX",
        "colab_type": "text"
      },
      "source": [
        "O novo conjunto está corretamente balanceado agora, eliminando boa parte do problema que tínhamos inicialmente.\n",
        "\n",
        "Novamente, vou instanciar um novo modelo de Regressão Logística e treiná-lo nesses dados balanceados. Vamos dar uma olhada nas métricas de avaliação que foram usadas, e ver o que mudou."
      ]
    },
    {
      "cell_type": "code",
      "metadata": {
        "id": "i1AW-3P7Lqkw",
        "colab_type": "code",
        "colab": {}
      },
      "source": [
        "# instanciar e treinar um modelo de Regressão Logística\n",
        "model_res = LogisticRegression()\n",
        "model_res.fit(X_res, y_res)\n",
        "\n",
        "# fazer as previsões em cima dos dados de teste\n",
        "y_pred_res = model_res.predict(X_test)\n",
        "y_proba_res = model_res.predict_proba(X_test)\n",
        "\n",
        "# plotar a matrix de confusão\n",
        "skplt.metrics.plot_confusion_matrix(y_test, y_pred_res, normalize=True)\n",
        "\n",
        "# imprimir relatório de classificação\n",
        "print(\"Relatório de Classificação:\\n\", classification_report(y_test, y_pred_res, digits=4))\n",
        "\n",
        "# imprimir a acurácia do modelo\n",
        "print(\"Acurácia: {:.4f}\\n\".format(accuracy_score(y_test, y_pred_res)))\n",
        "\n",
        "# imprimir a área sob da curva\n",
        "print(\"AUC: {:.4f}\\n\".format(roc_auc_score(y_test, y_pred_res)))"
      ],
      "execution_count": 0,
      "outputs": []
    },
    {
      "cell_type": "markdown",
      "metadata": {
        "id": "pFg6l4qvO8W8",
        "colab_type": "text"
      },
      "source": [
        "Repare que apesar da acurácia ter diminuído minimamente, tivemos um aumento significativo na capacidade do modelo em detectar fraudes. \n",
        "\n",
        "Apenas pelo fato de balancearmos os dados, melhoramos diversos parâmetros como `recall` e a área sob a curva (AUC), que são métricas extremamente importantes para o problema que estamos lidando."
      ]
    },
    {
      "cell_type": "markdown",
      "metadata": {
        "id": "nLEQTUaziSwB",
        "colab_type": "text"
      },
      "source": [
        "## Balanceamento de dados no mundo real\n",
        "\n",
        "São diversos os motivos que permitem que os dados sejam desbalanceados. Pode ser que o cientista de dados não conseguiu coletar igualmente dados de cada classe, ou pode ser que a amostra realmente refleta a população.\n",
        "\n",
        "Independente dos motivos, o não tratamente desse desbalanceamento afeta negativamente o desempenho do modelo, refletindo na qualidade global do seu projeto de *Data Science*.\n",
        "\n",
        "Não existe um método universal e ótimo. Existem técnicas que evoluem constantemente, e cabe a você identificar os prós e contras de cada uma.\n",
        "\n",
        "Por isso, recomendo não acompanhar apenas sites como o Kaggle, mas também acompanhar *papers* e trabalhos acadêmicos que tragam pesquisas nessa área tão importante."
      ]
    }
  ]
}